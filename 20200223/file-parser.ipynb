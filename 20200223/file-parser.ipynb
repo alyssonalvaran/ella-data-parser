{
 "cells": [
  {
   "cell_type": "markdown",
   "metadata": {},
   "source": [
    "# Background\n",
    "\n",
    "The directory structure currently looks like this:\n",
    "\n",
    "* `Driving Performance`\n",
    "    * `01`\n",
    "        * `Log_20200130101256_Unknown Road__0_0_0.csv`\n",
    "\n",
    "The primary directory (`Driving Performance`) contains folders named based on participant numbers (e.g. folder `00` contains the files related to participant number 00.)\n",
    "\n",
    "Inside each folder, there are CSV files named `Log_<datetime>_Unknown Road__0_0_0` (e.g. `Log_20200130101256_Unknown Road__0_0_0`).\n",
    "\n",
    "There are 21 folders, ranging from 00-21, with 9 log files per folder."
   ]
  },
  {
   "cell_type": "markdown",
   "metadata": {},
   "source": [
    "# Requirements\n",
    "\n",
    "Rename each log file from `Log_<datetime>_Unknown Road__0_0_0` to `<participant-number>_<trial-sequence>` (e.g. `01_06`).\n",
    "\n",
    "The trial sequence is this constant set of numbers: [06, 07, 14, 09, 13, 01, 18, 02, 11].\n",
    "\n",
    "The elements of the trial sequence should match each alphabetically-arranged log file. (Arranging the files alphabetically also arranges them based on datetime).\n",
    "\n",
    "## Exceptions\n",
    "\n",
    "For folders `00` and `11`, the trial sequence element is already indicated in the file name so for example, simply format the log file inside folder `00` from `Log_20200129211416_Unknown Road__0_0_0_6` to `00_06`.\n",
    "\n",
    "## Output location\n",
    "\n",
    "To preserve the original files, save the parsed files inside a new folder named `parsed_files`."
   ]
  },
  {
   "cell_type": "markdown",
   "metadata": {},
   "source": [
    "# Script\n",
    "\n",
    "Import the os, csv, shutil, and re modules."
   ]
  },
  {
   "cell_type": "code",
   "execution_count": 1,
   "metadata": {},
   "outputs": [],
   "source": [
    "import os # for accessing and creating directories\n",
    "import csv # for accessing and generating csv files\n",
    "import shutil # for copying files from one directory to another\n",
    "import re # for filtering string using regex"
   ]
  },
  {
   "cell_type": "markdown",
   "metadata": {},
   "source": [
    "Define the trial sequence."
   ]
  },
  {
   "cell_type": "code",
   "execution_count": 2,
   "metadata": {},
   "outputs": [],
   "source": [
    "trial_sequence = [6, 7, 14, 9, 13, 1, 18, 2, 11]"
   ]
  },
  {
   "cell_type": "markdown",
   "metadata": {},
   "source": [
    "Define the paths of the source and destination directories and create them if they don't exist yet."
   ]
  },
  {
   "cell_type": "code",
   "execution_count": 3,
   "metadata": {},
   "outputs": [],
   "source": [
    "src_path = \"Driving Performance/\"\n",
    "if not os.path.exists(src_path):\n",
    "    os.mkdir(src_path)\n",
    "\n",
    "dst_path = \"parsed_files/\"\n",
    "if not os.path.exists(dst_path):\n",
    "    os.mkdir(dst_path)"
   ]
  },
  {
   "cell_type": "markdown",
   "metadata": {},
   "source": [
    "Create dummy folders and CSV files.\n",
    "\n",
    "**NOTE: No need to run this part on actual parsing.**"
   ]
  },
  {
   "cell_type": "code",
   "execution_count": 4,
   "metadata": {},
   "outputs": [],
   "source": [
    "# creates 9 pre-formatted dummy CSV files\n",
    "def createDummyFiles(path, folder):\n",
    "    \n",
    "    # create a loop from 0-8\n",
    "    for i in range(9):\n",
    "        \n",
    "        # define the pre-formatted dummy filename\n",
    "        if folder in [\"00\", \"11\"]:\n",
    "            filename = \"Log_2020022312345\" + str(i) + \"_Unknown Road__0_0_0_\" + str(trial_sequence[i])\n",
    "        else:\n",
    "            filename = \"Log_2020022312345\" + str(i) + \"_Unknown Road__0_0_0\"\n",
    "        \n",
    "        # create the empty CSV file\n",
    "        with open(path + filename + \".csv\", \"w\") as dummy:\n",
    "            pass\n",
    "\n",
    "# create a loop from 0-20 for the folder names\n",
    "for i in range(21):\n",
    "    \n",
    "    # define the name and path of the directory to be created\n",
    "    folder = \"{:02d}\".format(i)\n",
    "    path = src_path + folder + \"/\"\n",
    "    \n",
    "    # create the folder\n",
    "    os.makedirs(path)\n",
    "    \n",
    "    # create dummy files\n",
    "    createDummyFiles(path, folder)"
   ]
  },
  {
   "cell_type": "markdown",
   "metadata": {},
   "source": [
    "Copy and rename files."
   ]
  },
  {
   "cell_type": "code",
   "execution_count": 5,
   "metadata": {},
   "outputs": [],
   "source": [
    "# loop through the folder in Driver Performance\n",
    "for folder in os.listdir(src_path):\n",
    "        \n",
    "        # loop through the files inside each folder\n",
    "        for index, file in enumerate(os.listdir(src_path + folder + \"/\")):\n",
    "            \n",
    "            # for folders 00 and 11\n",
    "            if folder in [\"00\", \"11\"]:\n",
    "                \n",
    "                # filter file to get trial_sequence_element\n",
    "                trial_sequence_element = re.search(r'Unknown Road__0_0_0_(.*?)\\.csv', file).group(1)\n",
    "                \n",
    "                # define the formatted filename (format: <folder>_<trial_sequence_element>.csv)\n",
    "                filename = folder + \"_\" + \"{:02d}\".format(int(trial_sequence_element)) + \".csv\"\n",
    "\n",
    "            # for the rest of the folders\n",
    "            else:\n",
    "                \n",
    "                # define the formatted filename (format: <folder>_<trial_sequence_element>.csv)\n",
    "                filename = folder + \"_\" + \"{:02d}\".format(trial_sequence[index]) + \".csv\"\n",
    "\n",
    "            # define the paths of the source and destination files\n",
    "            src_file = src_path + folder + \"/\" + file\n",
    "            dst_file = dst_path + filename\n",
    "\n",
    "            # create renamed copy of source file\n",
    "            if not os.path.exists(dst_file):\n",
    "                shutil.copy(src_file, dst_file)"
   ]
  }
 ],
 "metadata": {
  "kernelspec": {
   "display_name": "Python 3",
   "language": "python",
   "name": "python3"
  },
  "language_info": {
   "codemirror_mode": {
    "name": "ipython",
    "version": 3
   },
   "file_extension": ".py",
   "mimetype": "text/x-python",
   "name": "python",
   "nbconvert_exporter": "python",
   "pygments_lexer": "ipython3",
   "version": "3.7.4"
  }
 },
 "nbformat": 4,
 "nbformat_minor": 2
}

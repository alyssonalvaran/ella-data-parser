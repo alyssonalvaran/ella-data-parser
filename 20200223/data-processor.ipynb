{
 "cells": [
  {
   "cell_type": "markdown",
   "metadata": {},
   "source": [
    "# Requirements\n",
    "\n",
    "Loop through each file in the `parsed_files` folder and extract the following data of the records above the ones where `type = so` and `model = SUV LHD` (e.g. if row 10's `type = so` and `model = SUV LHD`, get the data from row 9):\n",
    "\n",
    "* Participant number\n",
    "* Trial number\n",
    "* Time\n",
    "* Type\n",
    "* Model\n",
    "* ID\n",
    "* speedInKmPerHour\n",
    "* inIntersection\n",
    "* offsetFromLaneCenter\n",
    "\n",
    "## Output location\n",
    "\n",
    "Save the output to a CSV file named `driving performance_data.csv`."
   ]
  },
  {
   "cell_type": "markdown",
   "metadata": {},
   "source": [
    "# Script\n",
    "\n",
    "Import the os, pandas,  and load_workbook from openpyxl modules."
   ]
  },
  {
   "cell_type": "code",
   "execution_count": null,
   "metadata": {},
   "outputs": [],
   "source": [
    "import os\n",
    "import pandas as pd\n",
    "from openpyxl import load_workbook"
   ]
  },
  {
   "cell_type": "markdown",
   "metadata": {},
   "source": [
    "Define the paths of the source and destination directories."
   ]
  },
  {
   "cell_type": "code",
   "execution_count": null,
   "metadata": {},
   "outputs": [],
   "source": [
    "src_path = \"parsed_files/\"\n",
    "dst_path = \"\""
   ]
  },
  {
   "cell_type": "markdown",
   "metadata": {},
   "source": [
    "Define the file name CSV file where the output will be saved."
   ]
  },
  {
   "cell_type": "code",
   "execution_count": null,
   "metadata": {},
   "outputs": [],
   "source": [
    "filename = \"driving performance_data\""
   ]
  },
  {
   "cell_type": "code",
   "execution_count": null,
   "metadata": {},
   "outputs": [],
   "source": [
    "# loop through the files in parsed_files\n",
    "for file in os.listdir(src_path):\n",
    "\n",
    "    # log which file is being read\n",
    "    print(\"------------------------------\")\n",
    "    print(\"Reading \" + file)\n",
    "\n",
    "    # define the list of required columns (excluding Participant number and Trial number which will be added later).\n",
    "    column_names = [\"Time\", \"Type\", \"Model\", \"ID\", \"speedInKmPerHour\", \"inIntersection\", \"offsetFromLaneCenter\"]\n",
    "    \n",
    "    # extract the file data and save it to a dataframe\n",
    "    df = pd.read_csv(src_path + file, engine=\"python\")\n",
    "    \n",
    "    # NOTE: The default read_csv formatting is utf-8, which is probably not the\n",
    "    # format of our csv files since I'm encountering UnicodeDecodeError.\n",
    "    # SOLUTION: add encoding = \"ISO-8859-1\" or engine = \"python\" to the parameters.\n",
    "\n",
    "    # get the indices of the records where type = so and model = SUV LHD\n",
    "    indices = df.index[(df[\"Type\"] == \"so\") & (df[\"Model\"] == \"SUV LHD\")]\n",
    "\n",
    "    # check if there are records found in the file\n",
    "    if len(indices) != 0:\n",
    "\n",
    "        # log how many records are found\n",
    "        print(\"Records found: \" + str(len(indices)))\n",
    "        print(\"------------------------------\\n\")\n",
    "\n",
    "        # get the indices of the rows above the records where type = so and model = SUV LHD\n",
    "        indices = [i - 1 for i in indices]\n",
    "\n",
    "        # filter the dataframe to display only the required column names of the selected indices.\n",
    "        df = df.loc[indices, column_names]\n",
    "\n",
    "        # add the participant and trials numbers to the list of column names\n",
    "        column_names.insert(0, \"Participant number\")\n",
    "        column_names.insert(1, \"Trial number\")\n",
    "\n",
    "        # add the participant and trials numbers to the dataframe\n",
    "        df.insert(loc = 0, column = column_names[0], value = file[0:2])\n",
    "        df.insert(loc = 1, column = column_names[1], value = file[3:5])\n",
    "\n",
    "        df[\"Participant number\"] = df[\"Participant number\"].astype(\"str\")\n",
    "\n",
    "        # check if the output file doesn't exist yet (meaning, there are no headers yet as well)\n",
    "        if not os.path.exists(dst_path + filename + \".xlsx\"):\n",
    "\n",
    "            # set the column_names as headers and save df to xlsx\n",
    "            df.to_excel(dst_path + filename + \".xlsx\", header = column_names, index = False)\n",
    "\n",
    "        # if there's already an existing output file\n",
    "        else:\n",
    "\n",
    "            # open the file and load its books and sheets\n",
    "            writer = pd.ExcelWriter(dst_path + filename + \".xlsx\", engine='openpyxl')\n",
    "            writer.book = load_workbook(dst_path + filename + \".xlsx\")\n",
    "            writer.sheets = dict((ws.title, ws) for ws in writer.book.worksheets)\n",
    "\n",
    "            # append the dataframe after the last row excluding the headers\n",
    "            reader = pd.read_excel(dst_path + filename + \".xlsx\")\n",
    "            df.to_excel(writer, header = False, index = False, startrow=len(reader)+1)\n",
    "\n",
    "            writer.close()"
   ]
  }
 ],
 "metadata": {
  "kernelspec": {
   "display_name": "Python 3",
   "language": "python",
   "name": "python3"
  },
  "language_info": {
   "codemirror_mode": {
    "name": "ipython",
    "version": 3
   },
   "file_extension": ".py",
   "mimetype": "text/x-python",
   "name": "python",
   "nbconvert_exporter": "python",
   "pygments_lexer": "ipython3",
   "version": "3.7.4"
  }
 },
 "nbformat": 4,
 "nbformat_minor": 2
}

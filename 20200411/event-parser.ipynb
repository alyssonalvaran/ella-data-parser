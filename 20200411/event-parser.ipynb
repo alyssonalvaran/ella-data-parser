{
 "cells": [
  {
   "cell_type": "markdown",
   "metadata": {},
   "source": [
    "# Requirements\n",
    "\n",
    "Loop through the CSV files in the `raw_files` folder.\n",
    "\n",
    "For each file:\n",
    "* Create a folder named after the file.\n",
    "* Get the rows in between events and save them in a separate file named after the event.\n",
    "\n",
    "\n",
    "## Output location\n",
    "\n",
    "Save everything in a folder named `parsed_files`. The directory tree should look like this:\n",
    "* raw_files\n",
    "    * sample00.csv\n",
    "    * sample01.csv\n",
    "    * sample02.csv\n",
    "    * ...\n",
    "* parsed_files\n",
    "    * sample00\n",
    "        * event00.csv\n",
    "        * event01.csv\n",
    "        * event02.csv\n",
    "        * ...\n",
    "    * sample01\n",
    "        * event00.csv\n",
    "        * event01.csv\n",
    "        * event02.csv\n",
    "        * ...\n",
    "    * ..."
   ]
  },
  {
   "cell_type": "markdown",
   "metadata": {},
   "source": [
    "# Script\n",
    "\n",
    "Import os and pandas modules."
   ]
  },
  {
   "cell_type": "code",
   "execution_count": 1,
   "metadata": {},
   "outputs": [],
   "source": [
    "import os\n",
    "import pandas as pd"
   ]
  },
  {
   "cell_type": "markdown",
   "metadata": {},
   "source": [
    "Define the paths of the source and destination directories."
   ]
  },
  {
   "cell_type": "code",
   "execution_count": 2,
   "metadata": {},
   "outputs": [],
   "source": [
    "SRC_PATH = \"raw_files/\"\n",
    "\n",
    "DST_PATH = \"parsed_files/\"\n",
    "if not os.path.exists(DST_PATH):\n",
    "    os.mkdir(DST_PATH)"
   ]
  },
  {
   "cell_type": "code",
   "execution_count": 3,
   "metadata": {},
   "outputs": [
    {
     "name": "stdout",
     "output_type": "stream",
     "text": [
      "------------------------------\n",
      "Reading sample02.csv\n",
      "- Saving rows 27538 to 28027 to normal 1.csv\n",
      "- Saving rows 38609 to 39138 to nonhazard 2.csv\n",
      "- Saving rows 53319 to 53706 to hazard 3.csv\n",
      "- Saving rows 66680 to 67318 to nonhazard 4.csv\n",
      "- Saving rows 87903 to 88274 to hazard 5.csv\n",
      "- Saving rows 100748 to 101267 to normal 6.csv\n",
      "- Saving rows 115651 to 116022 to hazard 7.csv\n",
      "- Saving rows 124820 to 125283 to normal 8.csv\n",
      "- Saving rows 135281 to 135783 to nonhazard 9.csv\n",
      "------------------------------\n",
      "Reading sample01.csv\n",
      "- Saving rows 19069 to 19590 to normal 1.csv\n",
      "- Saving rows 31214 to 31833 to nonhazard 2.csv\n",
      "- Saving rows 49877 to 50252 to hazard 3.csv\n",
      "- Saving rows 67513 to 68124 to nonhazard 4.csv\n",
      "- Saving rows 85214 to 85549 to hazard 5.csv\n",
      "- Saving rows 109236 to 109647 to normal 6.csv\n",
      "- Saving rows 125941 to 126311 to hazard 7.csv\n",
      "- Saving rows 138739 to 139211 to normal 8.csv\n",
      "- Saving rows 150974 to 151599 to nonhazard 9.csv\n"
     ]
    }
   ],
   "source": [
    "# loop through the files in parsed_files\n",
    "for file in os.listdir(SRC_PATH):\n",
    "    \n",
    "    # skip non-CSV files\n",
    "    if \".csv\" in file:\n",
    "        \n",
    "        # create a folder named after the file\n",
    "        folder = DST_PATH + file.replace(\".csv\", \"\") + \"/\"\n",
    "        if not os.path.exists(folder):\n",
    "            os.mkdir(folder)\n",
    "\n",
    "        # log which file is being read\n",
    "        print(\"------------------------------\")\n",
    "        print(\"Reading \" + file)\n",
    "\n",
    "        # extract the file data and save it to a dataframe\n",
    "        df = pd.read_csv(SRC_PATH + file)\n",
    "\n",
    "        # get the indices of the rows where Event contains !E TRIAL_EVENT_VAR\n",
    "        indices = df.index[df[\"Event\"].str.contains(\"!E TRIAL_EVENT_VAR\", na=False)].tolist()\n",
    "        \n",
    "        # loop through every other element of indices (i.e. 0, 2, 4, etc.)\n",
    "        for i in range(0, len(indices), 2):\n",
    "            \n",
    "            # get start and end indices\n",
    "            start_index = indices[i]\n",
    "            end_index = indices[i + 1]\n",
    "            \n",
    "            # extract file name from event name\n",
    "            filename = df[\"Event\"][indices[i]]\n",
    "            # remove !E TRIAL_EVENT_VAR from file name\n",
    "            filename = filename.replace(\"!E TRIAL_EVENT_VAR \", \"\")\n",
    "            # remove start/stop from file name\n",
    "            filename = filename.split(\"_\")[0]\n",
    "            \n",
    "            print(f\"- Saving rows {start_index} to {end_index} to {filename}.csv\")\n",
    "            \n",
    "            parsed_df = df[start_index:end_index + 1]\n",
    "            parsed_df.to_csv(folder + filename + \".csv\", index=False)"
   ]
  }
 ],
 "metadata": {
  "kernelspec": {
   "display_name": "Python 3",
   "language": "python",
   "name": "python3"
  },
  "language_info": {
   "codemirror_mode": {
    "name": "ipython",
    "version": 3
   },
   "file_extension": ".py",
   "mimetype": "text/x-python",
   "name": "python",
   "nbconvert_exporter": "python",
   "pygments_lexer": "ipython3",
   "version": "3.6.4"
  }
 },
 "nbformat": 4,
 "nbformat_minor": 4
}

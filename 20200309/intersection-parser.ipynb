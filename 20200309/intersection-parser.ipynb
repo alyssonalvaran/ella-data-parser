{
 "cells": [
  {
   "cell_type": "markdown",
   "metadata": {},
   "source": [
    "# Requirements\n",
    "\n",
    "Loop through trials 1, 2, and 6 files in the `parsed_files` folder (i.e. xx_01, xx_02, and xx_06).\n",
    "\n",
    "For files where `Trial number = 01`, get the 1st intersection (i.e. 1st set of rows where `inIntersection = True`) and the rows 4 seconds above and 4 seconds below the 1st and last included rows, respectively.\n",
    "\n",
    "For files where `Trial number = 02`, get the 2nd intersection (i.e. 2nd set of rows where `inIntersection = True`) and the rows 4 seconds above and 4 seconds below the 1st and last included rows, respectively.\n",
    "\n",
    "For files where `Trial number = 06`, get the 3rd intersection (i.e. 3rd set of rows where `inIntersection = True`) and the rows 4 seconds above and 4 seconds below the 1st and last included rows, respectively.\n",
    "\n",
    "## Output location\n",
    "\n",
    "Save each file's output to a CSV file with the same file name in a folder named `parsed_intersections`."
   ]
  },
  {
   "cell_type": "markdown",
   "metadata": {},
   "source": [
    "# Script\n",
    "\n",
    "Import the os, pandas,  and load_workbook from openpyxl modules."
   ]
  },
  {
   "cell_type": "code",
   "execution_count": null,
   "metadata": {},
   "outputs": [],
   "source": [
    "import os\n",
    "import pandas as pd\n",
    "import more_itertools as mit"
   ]
  },
  {
   "cell_type": "markdown",
   "metadata": {},
   "source": [
    "Define the paths of the source and destination directories."
   ]
  },
  {
   "cell_type": "code",
   "execution_count": null,
   "metadata": {},
   "outputs": [],
   "source": [
    "src_path = \"parsed_files/\"\n",
    "\n",
    "dst_path = \"parsed_intersections/\"\n",
    "if not os.path.exists(dst_path):\n",
    "    os.mkdir(dst_path)"
   ]
  },
  {
   "cell_type": "code",
   "execution_count": null,
   "metadata": {},
   "outputs": [],
   "source": [
    "# loop through the files in parsed_files\n",
    "for file in os.listdir(src_path):\n",
    "    \n",
    "    # check if the trial sequence of the file is either 01, 02, or 06\n",
    "    if file[3:-4] in [\"01\", \"02\", \"06\"]:\n",
    "        \n",
    "        # log which file is being read\n",
    "        print(\"------------------------------\")\n",
    "        print(\"Reading \" + file)\n",
    "        \n",
    "        # extract the file data and save it to a dataframe\n",
    "        df = pd.read_csv(src_path + file, engine=\"python\")\n",
    "        \n",
    "        # get indices of rows where inIntersection = True\n",
    "        indices = df.index[df[\"inIntersection\"] == True]\n",
    "        \n",
    "        # identify 1st, 2nd, and 3rd intersections\n",
    "        # by grouping consecutive indices\n",
    "        indices = [list(group) for group in mit.consecutive_groups(indices)]\n",
    "        \n",
    "        # check if trial = 01\n",
    "        if file[3:-4] == \"01\":\n",
    "            # get 1st intersection\n",
    "            indices = indices[0]\n",
    "        \n",
    "        # check if trial = 02\n",
    "        elif file[3:-4] == \"02\":\n",
    "            # get 2nd intersection\n",
    "            indices = indices[1]\n",
    "        \n",
    "        # check if trial = 06\n",
    "        elif file[3:-4] == \"06\":\n",
    "            # get 3rd intersection\n",
    "            indices = indices[2]\n",
    "            \n",
    "        # get the times 4 seconds above and 4 seconds below the 1st and last rows\n",
    "        start_time = df.iloc[indices[0]][\"Time\"] - 4\n",
    "        end_time = df.iloc[indices[-1]][\"Time\"] + 4\n",
    "        \n",
    "        # get the rows between the start and end times\n",
    "        parsed_data = df[(df[\"Time\"] >= start_time) & (df[\"Time\"] <= end_time)]\n",
    "        \n",
    "        # save the output\n",
    "        parsed_data.to_csv(dst_path + file, index=False)"
   ]
  }
 ],
 "metadata": {
  "kernelspec": {
   "display_name": "Python 3",
   "language": "python",
   "name": "python3"
  },
  "language_info": {
   "codemirror_mode": {
    "name": "ipython",
    "version": 3
   },
   "file_extension": ".py",
   "mimetype": "text/x-python",
   "name": "python",
   "nbconvert_exporter": "python",
   "pygments_lexer": "ipython3",
   "version": "3.6.4"
  }
 },
 "nbformat": 4,
 "nbformat_minor": 4
}
